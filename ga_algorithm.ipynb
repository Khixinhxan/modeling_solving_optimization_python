{
 "cells": [
  {
   "cell_type": "markdown",
   "metadata": {},
   "source": [
    "- Supported algorithms: GA.\n",
    "- Supporting multiple objectives: No."
   ]
  },
  {
   "cell_type": "code",
   "execution_count": 2,
   "metadata": {},
   "outputs": [],
   "source": [
    "import numpy as np\n",
    "from geneticalgorithm import geneticalgorithm as ga"
   ]
  },
  {
   "cell_type": "code",
   "execution_count": 6,
   "metadata": {},
   "outputs": [],
   "source": [
    "# Define charateristics of variables:\n",
    "varbound=np.array([[0,1],[0,1]])\n",
    "vartype=np.array([['real'],['real']])"
   ]
  },
  {
   "cell_type": "code",
   "execution_count": 7,
   "metadata": {},
   "outputs": [
    {
     "data": {
      "text/plain": [
       "array([[0, 1],\n",
       "       [0, 1]])"
      ]
     },
     "execution_count": 7,
     "metadata": {},
     "output_type": "execute_result"
    }
   ],
   "source": [
    "varbound"
   ]
  },
  {
   "cell_type": "code",
   "execution_count": 10,
   "metadata": {},
   "outputs": [
    {
     "data": {
      "text/plain": [
       "array([['real'],\n",
       "       ['real']], dtype='<U4')"
      ]
     },
     "execution_count": 10,
     "metadata": {},
     "output_type": "execute_result"
    }
   ],
   "source": [
    "vartype"
   ]
  },
  {
   "cell_type": "code",
   "execution_count": 11,
   "metadata": {},
   "outputs": [],
   "source": [
    "# Define settings of the algorithm:\n",
    "algorithm_param = {'max_num_iteration': 100,\\\n",
    "                   'population_size':60,\\\n",
    "                   'mutation_probability':0.1,\\\n",
    "                   'elit_ratio': 0.01,\\\n",
    "                   'crossover_probability': 0.5,\\\n",
    "                   'parents_portion': 0.3,\\\n",
    "                   'crossover_type':'uniform',\\\n",
    "                   'max_iteration_without_improv':None}  "
   ]
  },
  {
   "cell_type": "code",
   "execution_count": 12,
   "metadata": {},
   "outputs": [],
   "source": [
    "# Define your optimization model:\n",
    "def MyOptProb(X):\n",
    "    y = 0+X[1]*(1.29-0)\n",
    "    x = np.round(0+X[0]*(2-0))\n",
    "    g1 = 5/10 * x + 3/10 * y - 1\n",
    "    g2 = 2/9 * x + 7/9 * y - 1\n",
    "    penalty = np.amax(np.array([0,g1,g2]))\n",
    "    return -(2*x+5*y)+150*penalty**2"
   ]
  },
  {
   "cell_type": "code",
   "execution_count": 13,
   "metadata": {},
   "outputs": [],
   "source": [
    "# Define a solution retriever:\n",
    "def Results(obj, variables):\n",
    "    x = round(0+variables[0]*(2-0))\n",
    "    y = 0+variables[0]*(1.29-0)\n",
    "    g1 = 5 * x + 3 * y - 10\n",
    "    g2 = 2 * x + 7 * y - 9\n",
    "    print(g1)\n",
    "    print(g2)\n",
    "    if g1>10e-6 or g2>10e-6:\n",
    "      print(\"infeasible\")\n",
    "    else:\n",
    "      print(\"feasible\")\n",
    "    print(\"x:\",x)\n",
    "    print(\"y:\",y)\n",
    "    print(\"obj:\",2*x+5*y)"
   ]
  },
  {
   "cell_type": "code",
   "execution_count": 14,
   "metadata": {},
   "outputs": [
    {
     "name": "stdout",
     "output_type": "stream",
     "text": [
      " The best solution found:                                                                           \n",
      " [0.69306632 0.79646347]\n",
      "\n",
      " Objective function:\n",
      " -7.06887638950334\n"
     ]
    },
    {
     "data": {
      "image/png": "[encoded data removed]",
      "text/plain": [
       "<Figure size 640x480 with 1 Axes>"
      ]
     },
     "metadata": {},
     "output_type": "display_data"
    }
   ],
   "source": [
    "# Model and solve the problem:\n",
    "model=ga(function=MyOptProb,dimension=2,variable_type_mixed=vartype,variable_boundaries=varbound,algorithm_parameters=algorithm_param)\n",
    "model.run()"
   ]
  },
  {
   "cell_type": "code",
   "execution_count": 15,
   "metadata": {},
   "outputs": [
    {
     "name": "stdout",
     "output_type": "stream",
     "text": [
      "-2.3178333599055385\n",
      "-0.7416111731129238\n",
      "feasible\n",
      "x: 1\n",
      "y: 0.8940555466981538\n",
      "obj: 6.470277733490769\n"
     ]
    }
   ],
   "source": [
    "\n",
    "# Display results:    \n",
    "Results(model.best_function,model.best_variable)  "
   ]
  }
 ],
 "metadata": {
  "kernelspec": {
   "display_name": "Python 3.9.12 ('env': venv)",
   "language": "python",
   "name": "python3"
  },
  "language_info": {
   "codemirror_mode": {
    "name": "ipython",
    "version": 3
   },
   "file_extension": ".py",
   "mimetype": "text/x-python",
   "name": "python",
   "nbconvert_exporter": "python",
   "pygments_lexer": "ipython3",
   "version": "3.9.12"
  },
  "orig_nbformat": 4,
  "vscode": {
   "interpreter": {
    "hash": "d056482becdc724aba076b53ba75ce1af5d7cbfd05a5a4eb0be811eb9c9da591"
   }
  }
 },
 "nbformat": 4,
 "nbformat_minor": 2
}
