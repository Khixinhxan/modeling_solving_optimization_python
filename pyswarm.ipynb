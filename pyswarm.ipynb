{
 "cells": [
  {
   "cell_type": "code",
   "execution_count": 3,
   "metadata": {},
   "outputs": [],
   "source": [
    "from pyswarms.single.global_best import GlobalBestPSO\n",
    "import numpy as np"
   ]
  },
  {
   "cell_type": "code",
   "execution_count": null,
   "metadata": {},
   "outputs": [],
   "source": [
    "# Define charateristics of variables:\n",
    "x_min = [0, 0]\n",
    "x_max = [1, 1]\n",
    "bounds = (x_min, x_max)\n",
    "dim = len(x_min)"
   ]
  },
  {
   "cell_type": "code",
   "execution_count": null,
   "metadata": {},
   "outputs": [],
   "source": [
    "# Define settings of the algorithm:\n",
    "pop = 100\n",
    "iterations = 250\n",
    "options = {'c1': 0.5, 'c2': 0.4, 'w': 0.9}"
   ]
  },
  {
   "cell_type": "code",
   "execution_count": null,
   "metadata": {},
   "outputs": [],
   "source": [
    "# Define your optimization model:\n",
    "def MyOptProb(x):\n",
    "    y = 0 + x[:, 1] * (1.29 - 0)\n",
    "    x = np.round(0 + x[:, 0] * (2 - 0))\n",
    "    g1 = 5 / 10 * x + 3 / 10 * y - 1\n",
    "    g2 = 2 / 9 * x + 7 / 9 * y - 1\n",
    "    penalty = np.amax(np.array([np.zeros(pop), g1, g2]))\n",
    "    return -(2 * x + 5 * y) + 150 * penalty ** 2"
   ]
  },
  {
   "cell_type": "code",
   "execution_count": null,
   "metadata": {},
   "outputs": [],
   "source": [
    "# Define a solution retriever:\n",
    "def Results(obj, variables):\n",
    "    x = round(0 + variables[0] * (2 - 0))\n",
    "    y = 0 + variables[0] * (1.29 - 0)\n",
    "    g1 = 5 * x + 3 * y - 10\n",
    "    g2 = 2 * x + 7 * y - 9\n",
    "    if g1 > 10e-6 or g2 > 10e-6:\n",
    "        print ('infeasible')\n",
    "    else:\n",
    "        print ('feasible')\n",
    "    print ('x:', x)\n",
    "    print ('y:', y)\n",
    "    print ('obj:', 2 * x + 5 * y)\n"
   ]
  },
  {
   "cell_type": "code",
   "execution_count": null,
   "metadata": {},
   "outputs": [
    {
     "name": "stderr",
     "output_type": "stream",
     "text": [
      "2022-09-16 17:35:32,396 - pyswarms.single.global_best - INFO - Optimize for 250 iters with {'c1': 0.5, 'c2': 0.4, 'w': 0.9}\n",
      "pyswarms.single.global_best: 100%|██████████|250/250, best_cost=-1.71\n",
      "2022-09-16 17:35:32,609 - pyswarms.single.global_best - INFO - Optimization finished | best cost: -1.7076439020169634, best pos: [0.69349754 0.98497747]\n"
     ]
    }
   ],
   "source": [
    "# Model and solve the problem:\n",
    "optimizer = GlobalBestPSO(n_particles=pop, dimensions=dim,\n",
    "                          options=options, bounds=bounds)\n",
    "(obj, variables) = optimizer.optimize(MyOptProb, iterations)\n"
   ]
  },
  {
   "cell_type": "code",
   "execution_count": null,
   "metadata": {},
   "outputs": [
    {
     "name": "stdout",
     "output_type": "stream",
     "text": [
      "feasible\n",
      "x: 1\n",
      "y: 0.8946118257942259\n",
      "obj: 6.47305912897113\n"
     ]
    }
   ],
   "source": [
    "\n",
    "# Display results:\n",
    "Results(obj, variables)"
   ]
  }
 ],
 "metadata": {
  "kernelspec": {
   "display_name": "Python 3.8.9 64-bit",
   "language": "python",
   "name": "python3"
  },
  "language_info": {
   "codemirror_mode": {
    "name": "ipython",
    "version": 3
   },
   "file_extension": ".py",
   "mimetype": "text/x-python",
   "name": "python",
   "nbconvert_exporter": "python",
   "pygments_lexer": "ipython3",
   "version": "3.8.9"
  },
  "orig_nbformat": 4,
  "vscode": {
   "interpreter": {
    "hash": "31f2aee4e71d21fbe5cf8b01ff0e069b9275f58929596ceb00d14d90e3e16cd6"
   }
  }
 },
 "nbformat": 4,
 "nbformat_minor": 2
}
