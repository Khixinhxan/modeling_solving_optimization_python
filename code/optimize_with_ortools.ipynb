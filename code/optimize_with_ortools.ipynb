{
 "cells": [
  {
   "cell_type": "code",
   "execution_count": 1,
   "metadata": {},
   "outputs": [],
   "source": [
    "from ortools.linear_solver import pywraplp"
   ]
  },
  {
   "cell_type": "code",
   "execution_count": 2,
   "metadata": {},
   "outputs": [],
   "source": [
    "def prob():\n",
    "\n",
    "#(Other solvers: pywraplp.Solver.CreateSolver('SOLVERNAME'))\n",
    "    op = pywraplp.Solver.CreateSolver('SCIP')\n",
    " \n",
    "# Define decision variables   \n",
    "    x = op.NumVar(0.0, op.infinity(), 'x')\n",
    "    y = op.IntVar(0.0, op.infinity(), 'y')\n",
    "\n",
    "# Add objective function to the environment\n",
    "    op.Maximize(2*x+5*y)\n",
    "\n",
    "# Add constraints to the environment\n",
    "    op.Add(5*x+3*y<=10)\n",
    "    op.Add(2*x+7*y<=9)\n",
    "\n",
    "# Solve the problem \n",
    "    status = op.Solve()\n",
    "\n",
    "# The status of the solution\n",
    "    if status == pywraplp.Solver.OPTIMAL:\n",
    "        print('Solution:')\n",
    "        print('Objective value =', op.Objective().Value())\n",
    "        print('x =', x.solution_value())\n",
    "        print('y =', y.solution_value())\n",
    "    else:\n",
    "        print('The problem does not have an optimal solution.')"
   ]
  },
  {
   "cell_type": "code",
   "execution_count": 3,
   "metadata": {},
   "outputs": [
    {
     "name": "stdout",
     "output_type": "stream",
     "text": [
      "Solution:\n",
      "Objective value = 7.0\n",
      "x = 1.0\n",
      "y = 1.0\n"
     ]
    }
   ],
   "source": [
    "prob()"
   ]
  }
 ],
 "metadata": {
  "kernelspec": {
   "display_name": "Python 3.9.12 ('env': venv)",
   "language": "python",
   "name": "python3"
  },
  "language_info": {
   "codemirror_mode": {
    "name": "ipython",
    "version": 3
   },
   "file_extension": ".py",
   "mimetype": "text/x-python",
   "name": "python",
   "nbconvert_exporter": "python",
   "pygments_lexer": "ipython3",
   "version": "3.9.12"
  },
  "orig_nbformat": 4,
  "vscode": {
   "interpreter": {
    "hash": "d056482becdc724aba076b53ba75ce1af5d7cbfd05a5a4eb0be811eb9c9da591"
   }
  }
 },
 "nbformat": 4,
 "nbformat_minor": 2
}
