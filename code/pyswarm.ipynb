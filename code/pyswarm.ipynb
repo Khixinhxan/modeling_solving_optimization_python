{
 "cells": [
  {
   "cell_type": "code",
   "execution_count": 2,
   "metadata": {},
   "outputs": [],
   "source": [
    "from pyswarms.single.global_best import GlobalBestPSO\n",
    "import numpy as np"
   ]
  },
  {
   "cell_type": "code",
   "execution_count": 3,
   "metadata": {},
   "outputs": [],
   "source": [
    "# Define charateristics of variables:\n",
    "x_min = [0, 0]\n",
    "x_max = [1, 1]\n",
    "bounds = (x_min, x_max)\n",
    "dim = len(x_min)"
   ]
  },
  {
   "cell_type": "code",
   "execution_count": 4,
   "metadata": {},
   "outputs": [],
   "source": [
    "# Define settings of the algorithm:\n",
    "pop = 100\n",
    "iterations = 250\n",
    "options = {'c1': 0.5, 'c2': 0.4, 'w': 0.9}"
   ]
  },
  {
   "cell_type": "code",
   "execution_count": 5,
   "metadata": {},
   "outputs": [],
   "source": [
    "# Define your optimization model:\n",
    "def MyOptProb(x):\n",
    "    y = 0 + x[:, 1] * (1.29 - 0)\n",
    "    x = np.round(0 + x[:, 0] * (2 - 0))\n",
    "    g1 = 5 / 10 * x + 3 / 10 * y - 1\n",
    "    g2 = 2 / 9 * x + 7 / 9 * y - 1\n",
    "    penalty = np.amax(np.array([np.zeros(pop), g1, g2]))\n",
    "    return -(2 * x + 5 * y) + 150 * penalty ** 2"
   ]
  },
  {
   "cell_type": "code",
   "execution_count": 6,
   "metadata": {},
   "outputs": [],
   "source": [
    "# Define a solution retriever:\n",
    "def Results(obj, variables):\n",
    "    x = round(0 + variables[0] * (2 - 0))\n",
    "    y = 0 + variables[0] * (1.29 - 0)\n",
    "    g1 = 5 * x + 3 * y - 10\n",
    "    g2 = 2 * x + 7 * y - 9\n",
    "    if g1 > 10e-6 or g2 > 10e-6:\n",
    "        print ('infeasible')\n",
    "    else:\n",
    "        print ('feasible')\n",
    "    print ('x:', x)\n",
    "    print ('y:', y)\n",
    "    print ('obj:', 2 * x + 5 * y)\n"
   ]
  },
  {
   "cell_type": "code",
   "execution_count": 7,
   "metadata": {},
   "outputs": [
    {
     "name": "stderr",
     "output_type": "stream",
     "text": [
      "2022-09-19 18:07:04,012 - pyswarms.single.global_best - INFO - Optimize for 250 iters with {'c1': 0.5, 'c2': 0.4, 'w': 0.9}\n",
      "pyswarms.single.global_best: 100%|██████████|250/250, best_cost=9.33\n",
      "2022-09-19 18:07:04,136 - pyswarms.single.global_best - INFO - Optimization finished | best cost: 9.326398006188, best pos: [0.96277268 0.91027022]\n"
     ]
    }
   ],
   "source": [
    "# Model and solve the problem:\n",
    "optimizer = GlobalBestPSO(n_particles=pop, dimensions=dim,\n",
    "                          options=options, bounds=bounds)\n",
    "(obj, variables) = optimizer.optimize(MyOptProb, iterations)\n"
   ]
  },
  {
   "cell_type": "code",
   "execution_count": 8,
   "metadata": {},
   "outputs": [
    {
     "name": "stdout",
     "output_type": "stream",
     "text": [
      "infeasible\n",
      "x: 2\n",
      "y: 1.2419767554990573\n",
      "obj: 10.209883777495286\n"
     ]
    }
   ],
   "source": [
    "\n",
    "# Display results:\n",
    "Results(obj, variables)"
   ]
  }
 ],
 "metadata": {
  "kernelspec": {
   "display_name": "Python 3.9.12 ('env': venv)",
   "language": "python",
   "name": "python3"
  },
  "language_info": {
   "codemirror_mode": {
    "name": "ipython",
    "version": 3
   },
   "file_extension": ".py",
   "mimetype": "text/x-python",
   "name": "python",
   "nbconvert_exporter": "python",
   "pygments_lexer": "ipython3",
   "version": "3.9.12"
  },
  "orig_nbformat": 4,
  "vscode": {
   "interpreter": {
    "hash": "d056482becdc724aba076b53ba75ce1af5d7cbfd05a5a4eb0be811eb9c9da591"
   }
  }
 },
 "nbformat": 4,
 "nbformat_minor": 2
}
