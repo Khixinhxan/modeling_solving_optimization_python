{
 "cells": [
  {
   "cell_type": "code",
   "execution_count": 29,
   "metadata": {},
   "outputs": [],
   "source": [
    "from optlang import Model, Variable, Constraint, Objective"
   ]
  },
  {
   "cell_type": "code",
   "execution_count": 30,
   "metadata": {},
   "outputs": [],
   "source": [
    "# All the (symbolic) variables are declared, with a name and optionally a lower and/or upper bound.\n",
    "x = Variable('x', type='integer', lb=0)\n",
    "y = Variable('y', type='integer', lb=0)"
   ]
  },
  {
   "cell_type": "code",
   "execution_count": 31,
   "metadata": {},
   "outputs": [],
   "source": [
    "# A constraint is constructed from an expression of variables and a lower and/or upper bound (lb and ub).\n",
    "c1 = Constraint(5*x+3*y , ub=10)\n",
    "c2 = Constraint(2*x+7*y, ub=9)"
   ]
  },
  {
   "cell_type": "code",
   "execution_count": 32,
   "metadata": {},
   "outputs": [],
   "source": [
    "# An objective can be formulated\n",
    "obj = Objective(2*x+5*y, direction='max')"
   ]
  },
  {
   "cell_type": "code",
   "execution_count": 33,
   "metadata": {},
   "outputs": [],
   "source": [
    "# Variables, constraints and objective are combined in a Model object, which can subsequently be optimized.\n",
    "model = Model(name='Simple model')\n",
    "model.objective = obj\n",
    "model.add([c1, c2])\n",
    "status = model.optimize()"
   ]
  },
  {
   "cell_type": "code",
   "execution_count": 34,
   "metadata": {},
   "outputs": [
    {
     "name": "stdout",
     "output_type": "stream",
     "text": [
      "status: optimal\n",
      "objective value: 7.0\n",
      "x = 1.0\n",
      "y = 1.0\n"
     ]
    }
   ],
   "source": [
    "print(\"status:\", model.status)\n",
    "print(\"objective value:\", model.objective.value)\n",
    "for var_name, var in model.variables.items():\n",
    "    print(var_name, \"=\", var.primal)"
   ]
  }
 ],
 "metadata": {
  "kernelspec": {
   "display_name": "Python 3.9.12 ('env': venv)",
   "language": "python",
   "name": "python3"
  },
  "language_info": {
   "codemirror_mode": {
    "name": "ipython",
    "version": 3
   },
   "file_extension": ".py",
   "mimetype": "text/x-python",
   "name": "python",
   "nbconvert_exporter": "python",
   "pygments_lexer": "ipython3",
   "version": "3.9.12"
  },
  "orig_nbformat": 4,
  "vscode": {
   "interpreter": {
    "hash": "d056482becdc724aba076b53ba75ce1af5d7cbfd05a5a4eb0be811eb9c9da591"
   }
  }
 },
 "nbformat": 4,
 "nbformat_minor": 2
}
