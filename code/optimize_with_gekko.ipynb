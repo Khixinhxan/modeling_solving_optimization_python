{
 "cells": [
  {
   "cell_type": "code",
   "execution_count": 1,
   "metadata": {},
   "outputs": [],
   "source": [
    "from gekko import GEKKO"
   ]
  },
  {
   "cell_type": "code",
   "execution_count": 2,
   "metadata": {},
   "outputs": [],
   "source": [
    "# Define environment\n",
    "prob = GEKKO(remote=False)"
   ]
  },
  {
   "cell_type": "code",
   "execution_count": 3,
   "metadata": {},
   "outputs": [],
   "source": [
    "# Define decision variables\n",
    "x = prob.Var(lb=0,ub=None,integer=True)\n",
    "y = prob.Var(lb=0,ub=None)"
   ]
  },
  {
   "cell_type": "code",
   "execution_count": 4,
   "metadata": {},
   "outputs": [],
   "source": [
    "# Add objective function to the environment\n",
    "prob.Obj(-(2*x+5*y)) # Objective"
   ]
  },
  {
   "cell_type": "code",
   "execution_count": 5,
   "metadata": {},
   "outputs": [
    {
     "data": {
      "text/plain": [
       "<gekko.gekko.EquationObj at 0x1104f50a0>"
      ]
     },
     "execution_count": 5,
     "metadata": {},
     "output_type": "execute_result"
    }
   ],
   "source": [
    "# Add constraints to the environment\n",
    "prob.Equation(5*x+3*y<=10)\n",
    "prob.Equation(2*x+7*y<=9)"
   ]
  },
  {
   "cell_type": "code",
   "execution_count": 6,
   "metadata": {},
   "outputs": [],
   "source": [
    "# Solve the problem (1: MINLP solver, 2,3: Other Solvers)\n",
    "prob.options.SOLVER=1  \n",
    "prob.solve(disp=False) "
   ]
  },
  {
   "cell_type": "code",
   "execution_count": 7,
   "metadata": {},
   "outputs": [
    {
     "name": "stdout",
     "output_type": "stream",
     "text": [
      "Results\n",
      "x: [1.0]\n",
      "y: [1.0]\n",
      "Optimal Value of Objective Is = 7.0\n"
     ]
    }
   ],
   "source": [
    "# Display results\n",
    "print('Results')\n",
    "print('x: ' + str(x.value))\n",
    "print('y: ' + str(y.value))\n",
    "print('Optimal Value of Objective Is = ' + str(-prob.options.objfcnval))"
   ]
  }
 ],
 "metadata": {
  "kernelspec": {
   "display_name": "Python 3.9.12 ('env': venv)",
   "language": "python",
   "name": "python3"
  },
  "language_info": {
   "codemirror_mode": {
    "name": "ipython",
    "version": 3
   },
   "file_extension": ".py",
   "mimetype": "text/x-python",
   "name": "python",
   "nbconvert_exporter": "python",
   "pygments_lexer": "ipython3",
   "version": "3.9.12"
  },
  "orig_nbformat": 4,
  "vscode": {
   "interpreter": {
    "hash": "d056482becdc724aba076b53ba75ce1af5d7cbfd05a5a4eb0be811eb9c9da591"
   }
  }
 },
 "nbformat": 4,
 "nbformat_minor": 2
}
